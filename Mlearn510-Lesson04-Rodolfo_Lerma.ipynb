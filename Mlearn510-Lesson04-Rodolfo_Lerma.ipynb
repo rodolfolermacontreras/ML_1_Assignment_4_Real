{
 "cells": [
  {
   "cell_type": "markdown",
   "metadata": {},
   "source": [
    "# Internet Advertisements Data Set\n",
    "\n",
    "### Student: Rodolfo Lerma"
   ]
  },
  {
   "cell_type": "markdown",
   "metadata": {},
   "source": [
    "## Data Set Information:\n",
    "\n",
    "This dataset represents a set of possible advertisements on Internet pages. The features encode the geometry of the image (if available) as well as phrases occuring in the URL, the image's URL and alt text, the anchor text, and words occuring near the anchor text. The task is to predict whether an image is an advertisement (\"ad\") or not (\"nonad\"). Additional information can be found [here](https://archive.ics.uci.edu/ml/datasets/internet%2Badvertisements).\n",
    "\n",
    "## Attribute Information:\n",
    "\n",
    "The dataset has 3 continous (height, width, aratio) and 1555 binary (urls, tags, captions) features. \n",
    "\n",
    "## Source:\n",
    "\n",
    "Creator & donor: Nicholas Kushmerick <nick '@' ucd.ie>"
   ]
  },
  {
   "cell_type": "markdown",
   "metadata": {},
   "source": [
    "# Learning Objectives\n",
    "- Identify and impute missing data\n",
    "- Use normalization as part of the modeling process: min max normalization.\n",
    "- Use normalization as part of the modeling process: centering and scaling.\n",
    "- Use hold-out validation to compare the performance of a pair of models using a large data set."
   ]
  },
  {
   "cell_type": "code",
   "execution_count": 1,
   "metadata": {},
   "outputs": [
    {
     "name": "stderr",
     "output_type": "stream",
     "text": [
      "C:\\Users\\ly266e\\AppData\\Local\\Continuum\\anaconda3\\lib\\site-packages\\IPython\\core\\interactiveshell.py:3057: DtypeWarning: Columns (3) have mixed types. Specify dtype option on import or set low_memory=False.\n",
      "  interactivity=interactivity, compiler=compiler, result=result)\n"
     ]
    },
    {
     "name": "stdout",
     "output_type": "stream",
     "text": [
      "<class 'pandas.core.frame.DataFrame'>\n",
      "RangeIndex: 3279 entries, 0 to 3278\n",
      "Columns: 1559 entries, height to Target\n",
      "dtypes: int64(1554), object(5)\n",
      "memory usage: 39.0+ MB\n",
      "None\n"
     ]
    }
   ],
   "source": [
    "import pandas as pd\n",
    "import numpy as np\n",
    "\n",
    "# Load the data\n",
    "internetAd = pd.read_csv('Internet_Ad_Data.csv', sep=',', error_bad_lines=False)\n",
    "print(internetAd.info())"
   ]
  },
  {
   "cell_type": "code",
   "execution_count": 2,
   "metadata": {},
   "outputs": [
    {
     "data": {
      "text/html": [
       "<div>\n",
       "<style scoped>\n",
       "    .dataframe tbody tr th:only-of-type {\n",
       "        vertical-align: middle;\n",
       "    }\n",
       "\n",
       "    .dataframe tbody tr th {\n",
       "        vertical-align: top;\n",
       "    }\n",
       "\n",
       "    .dataframe thead th {\n",
       "        text-align: right;\n",
       "    }\n",
       "</style>\n",
       "<table border=\"1\" class=\"dataframe\">\n",
       "  <thead>\n",
       "    <tr style=\"text-align: right;\">\n",
       "      <th></th>\n",
       "      <th>height</th>\n",
       "      <th>width</th>\n",
       "      <th>aratio</th>\n",
       "      <th>local</th>\n",
       "      <th>url*images+buttons</th>\n",
       "      <th>url*likesbooks.com</th>\n",
       "      <th>url*www.slake.com</th>\n",
       "      <th>url*hydrogeologist</th>\n",
       "      <th>url*oso</th>\n",
       "      <th>url*media</th>\n",
       "      <th>...</th>\n",
       "      <th>caption*home</th>\n",
       "      <th>caption*my</th>\n",
       "      <th>caption*your</th>\n",
       "      <th>caption*in</th>\n",
       "      <th>caption*bytes</th>\n",
       "      <th>caption*here</th>\n",
       "      <th>caption*click</th>\n",
       "      <th>caption*for</th>\n",
       "      <th>caption*you</th>\n",
       "      <th>Target</th>\n",
       "    </tr>\n",
       "  </thead>\n",
       "  <tbody>\n",
       "    <tr>\n",
       "      <th>0</th>\n",
       "      <td>125</td>\n",
       "      <td>125</td>\n",
       "      <td>1.0</td>\n",
       "      <td>1</td>\n",
       "      <td>0</td>\n",
       "      <td>0</td>\n",
       "      <td>0</td>\n",
       "      <td>0</td>\n",
       "      <td>0</td>\n",
       "      <td>0</td>\n",
       "      <td>...</td>\n",
       "      <td>0</td>\n",
       "      <td>0</td>\n",
       "      <td>0</td>\n",
       "      <td>0</td>\n",
       "      <td>0</td>\n",
       "      <td>0</td>\n",
       "      <td>0</td>\n",
       "      <td>0</td>\n",
       "      <td>0</td>\n",
       "      <td>ad.</td>\n",
       "    </tr>\n",
       "    <tr>\n",
       "      <th>1</th>\n",
       "      <td>57</td>\n",
       "      <td>468</td>\n",
       "      <td>8.2105</td>\n",
       "      <td>1</td>\n",
       "      <td>0</td>\n",
       "      <td>0</td>\n",
       "      <td>0</td>\n",
       "      <td>0</td>\n",
       "      <td>0</td>\n",
       "      <td>0</td>\n",
       "      <td>...</td>\n",
       "      <td>0</td>\n",
       "      <td>0</td>\n",
       "      <td>0</td>\n",
       "      <td>0</td>\n",
       "      <td>0</td>\n",
       "      <td>0</td>\n",
       "      <td>0</td>\n",
       "      <td>0</td>\n",
       "      <td>0</td>\n",
       "      <td>ad.</td>\n",
       "    </tr>\n",
       "    <tr>\n",
       "      <th>2</th>\n",
       "      <td>33</td>\n",
       "      <td>230</td>\n",
       "      <td>6.9696</td>\n",
       "      <td>1</td>\n",
       "      <td>0</td>\n",
       "      <td>0</td>\n",
       "      <td>0</td>\n",
       "      <td>0</td>\n",
       "      <td>0</td>\n",
       "      <td>0</td>\n",
       "      <td>...</td>\n",
       "      <td>0</td>\n",
       "      <td>0</td>\n",
       "      <td>0</td>\n",
       "      <td>0</td>\n",
       "      <td>0</td>\n",
       "      <td>0</td>\n",
       "      <td>0</td>\n",
       "      <td>0</td>\n",
       "      <td>0</td>\n",
       "      <td>ad.</td>\n",
       "    </tr>\n",
       "    <tr>\n",
       "      <th>3</th>\n",
       "      <td>60</td>\n",
       "      <td>468</td>\n",
       "      <td>7.8</td>\n",
       "      <td>1</td>\n",
       "      <td>0</td>\n",
       "      <td>0</td>\n",
       "      <td>0</td>\n",
       "      <td>0</td>\n",
       "      <td>0</td>\n",
       "      <td>0</td>\n",
       "      <td>...</td>\n",
       "      <td>0</td>\n",
       "      <td>0</td>\n",
       "      <td>0</td>\n",
       "      <td>0</td>\n",
       "      <td>0</td>\n",
       "      <td>0</td>\n",
       "      <td>0</td>\n",
       "      <td>0</td>\n",
       "      <td>0</td>\n",
       "      <td>ad.</td>\n",
       "    </tr>\n",
       "    <tr>\n",
       "      <th>4</th>\n",
       "      <td>60</td>\n",
       "      <td>468</td>\n",
       "      <td>7.8</td>\n",
       "      <td>1</td>\n",
       "      <td>0</td>\n",
       "      <td>0</td>\n",
       "      <td>0</td>\n",
       "      <td>0</td>\n",
       "      <td>0</td>\n",
       "      <td>0</td>\n",
       "      <td>...</td>\n",
       "      <td>0</td>\n",
       "      <td>0</td>\n",
       "      <td>0</td>\n",
       "      <td>0</td>\n",
       "      <td>0</td>\n",
       "      <td>0</td>\n",
       "      <td>0</td>\n",
       "      <td>0</td>\n",
       "      <td>0</td>\n",
       "      <td>ad.</td>\n",
       "    </tr>\n",
       "    <tr>\n",
       "      <th>5</th>\n",
       "      <td>60</td>\n",
       "      <td>468</td>\n",
       "      <td>7.8</td>\n",
       "      <td>1</td>\n",
       "      <td>0</td>\n",
       "      <td>0</td>\n",
       "      <td>0</td>\n",
       "      <td>0</td>\n",
       "      <td>0</td>\n",
       "      <td>0</td>\n",
       "      <td>...</td>\n",
       "      <td>0</td>\n",
       "      <td>0</td>\n",
       "      <td>0</td>\n",
       "      <td>0</td>\n",
       "      <td>0</td>\n",
       "      <td>0</td>\n",
       "      <td>0</td>\n",
       "      <td>0</td>\n",
       "      <td>0</td>\n",
       "      <td>ad.</td>\n",
       "    </tr>\n",
       "    <tr>\n",
       "      <th>6</th>\n",
       "      <td>59</td>\n",
       "      <td>460</td>\n",
       "      <td>7.7966</td>\n",
       "      <td>1</td>\n",
       "      <td>0</td>\n",
       "      <td>0</td>\n",
       "      <td>0</td>\n",
       "      <td>0</td>\n",
       "      <td>0</td>\n",
       "      <td>0</td>\n",
       "      <td>...</td>\n",
       "      <td>0</td>\n",
       "      <td>0</td>\n",
       "      <td>0</td>\n",
       "      <td>0</td>\n",
       "      <td>0</td>\n",
       "      <td>0</td>\n",
       "      <td>0</td>\n",
       "      <td>0</td>\n",
       "      <td>0</td>\n",
       "      <td>ad.</td>\n",
       "    </tr>\n",
       "    <tr>\n",
       "      <th>7</th>\n",
       "      <td>60</td>\n",
       "      <td>234</td>\n",
       "      <td>3.9</td>\n",
       "      <td>1</td>\n",
       "      <td>0</td>\n",
       "      <td>0</td>\n",
       "      <td>0</td>\n",
       "      <td>0</td>\n",
       "      <td>0</td>\n",
       "      <td>0</td>\n",
       "      <td>...</td>\n",
       "      <td>0</td>\n",
       "      <td>0</td>\n",
       "      <td>0</td>\n",
       "      <td>0</td>\n",
       "      <td>0</td>\n",
       "      <td>0</td>\n",
       "      <td>0</td>\n",
       "      <td>0</td>\n",
       "      <td>0</td>\n",
       "      <td>ad.</td>\n",
       "    </tr>\n",
       "    <tr>\n",
       "      <th>8</th>\n",
       "      <td>60</td>\n",
       "      <td>468</td>\n",
       "      <td>7.8</td>\n",
       "      <td>1</td>\n",
       "      <td>0</td>\n",
       "      <td>0</td>\n",
       "      <td>0</td>\n",
       "      <td>0</td>\n",
       "      <td>0</td>\n",
       "      <td>0</td>\n",
       "      <td>...</td>\n",
       "      <td>0</td>\n",
       "      <td>0</td>\n",
       "      <td>0</td>\n",
       "      <td>0</td>\n",
       "      <td>0</td>\n",
       "      <td>0</td>\n",
       "      <td>0</td>\n",
       "      <td>0</td>\n",
       "      <td>0</td>\n",
       "      <td>ad.</td>\n",
       "    </tr>\n",
       "    <tr>\n",
       "      <th>9</th>\n",
       "      <td>60</td>\n",
       "      <td>468</td>\n",
       "      <td>7.8</td>\n",
       "      <td>1</td>\n",
       "      <td>0</td>\n",
       "      <td>0</td>\n",
       "      <td>0</td>\n",
       "      <td>0</td>\n",
       "      <td>0</td>\n",
       "      <td>0</td>\n",
       "      <td>...</td>\n",
       "      <td>0</td>\n",
       "      <td>0</td>\n",
       "      <td>0</td>\n",
       "      <td>0</td>\n",
       "      <td>0</td>\n",
       "      <td>0</td>\n",
       "      <td>0</td>\n",
       "      <td>0</td>\n",
       "      <td>0</td>\n",
       "      <td>ad.</td>\n",
       "    </tr>\n",
       "    <tr>\n",
       "      <th>10</th>\n",
       "      <td>?</td>\n",
       "      <td>?</td>\n",
       "      <td>?</td>\n",
       "      <td>1</td>\n",
       "      <td>0</td>\n",
       "      <td>0</td>\n",
       "      <td>0</td>\n",
       "      <td>0</td>\n",
       "      <td>0</td>\n",
       "      <td>0</td>\n",
       "      <td>...</td>\n",
       "      <td>0</td>\n",
       "      <td>0</td>\n",
       "      <td>0</td>\n",
       "      <td>0</td>\n",
       "      <td>0</td>\n",
       "      <td>0</td>\n",
       "      <td>0</td>\n",
       "      <td>0</td>\n",
       "      <td>0</td>\n",
       "      <td>ad.</td>\n",
       "    </tr>\n",
       "    <tr>\n",
       "      <th>11</th>\n",
       "      <td>90</td>\n",
       "      <td>52</td>\n",
       "      <td>0.5777</td>\n",
       "      <td>1</td>\n",
       "      <td>0</td>\n",
       "      <td>0</td>\n",
       "      <td>0</td>\n",
       "      <td>0</td>\n",
       "      <td>0</td>\n",
       "      <td>0</td>\n",
       "      <td>...</td>\n",
       "      <td>0</td>\n",
       "      <td>0</td>\n",
       "      <td>0</td>\n",
       "      <td>0</td>\n",
       "      <td>0</td>\n",
       "      <td>0</td>\n",
       "      <td>0</td>\n",
       "      <td>0</td>\n",
       "      <td>0</td>\n",
       "      <td>ad.</td>\n",
       "    </tr>\n",
       "    <tr>\n",
       "      <th>12</th>\n",
       "      <td>90</td>\n",
       "      <td>60</td>\n",
       "      <td>0.6666</td>\n",
       "      <td>1</td>\n",
       "      <td>0</td>\n",
       "      <td>0</td>\n",
       "      <td>0</td>\n",
       "      <td>0</td>\n",
       "      <td>0</td>\n",
       "      <td>0</td>\n",
       "      <td>...</td>\n",
       "      <td>0</td>\n",
       "      <td>0</td>\n",
       "      <td>0</td>\n",
       "      <td>0</td>\n",
       "      <td>0</td>\n",
       "      <td>0</td>\n",
       "      <td>0</td>\n",
       "      <td>0</td>\n",
       "      <td>0</td>\n",
       "      <td>ad.</td>\n",
       "    </tr>\n",
       "    <tr>\n",
       "      <th>13</th>\n",
       "      <td>90</td>\n",
       "      <td>60</td>\n",
       "      <td>0.6666</td>\n",
       "      <td>1</td>\n",
       "      <td>0</td>\n",
       "      <td>0</td>\n",
       "      <td>0</td>\n",
       "      <td>0</td>\n",
       "      <td>0</td>\n",
       "      <td>0</td>\n",
       "      <td>...</td>\n",
       "      <td>0</td>\n",
       "      <td>0</td>\n",
       "      <td>0</td>\n",
       "      <td>0</td>\n",
       "      <td>0</td>\n",
       "      <td>0</td>\n",
       "      <td>0</td>\n",
       "      <td>0</td>\n",
       "      <td>0</td>\n",
       "      <td>ad.</td>\n",
       "    </tr>\n",
       "    <tr>\n",
       "      <th>14</th>\n",
       "      <td>33</td>\n",
       "      <td>230</td>\n",
       "      <td>6.9696</td>\n",
       "      <td>1</td>\n",
       "      <td>0</td>\n",
       "      <td>0</td>\n",
       "      <td>0</td>\n",
       "      <td>0</td>\n",
       "      <td>0</td>\n",
       "      <td>0</td>\n",
       "      <td>...</td>\n",
       "      <td>0</td>\n",
       "      <td>0</td>\n",
       "      <td>0</td>\n",
       "      <td>0</td>\n",
       "      <td>0</td>\n",
       "      <td>0</td>\n",
       "      <td>0</td>\n",
       "      <td>0</td>\n",
       "      <td>0</td>\n",
       "      <td>ad.</td>\n",
       "    </tr>\n",
       "    <tr>\n",
       "      <th>15</th>\n",
       "      <td>60</td>\n",
       "      <td>468</td>\n",
       "      <td>7.8</td>\n",
       "      <td>1</td>\n",
       "      <td>0</td>\n",
       "      <td>0</td>\n",
       "      <td>0</td>\n",
       "      <td>0</td>\n",
       "      <td>0</td>\n",
       "      <td>0</td>\n",
       "      <td>...</td>\n",
       "      <td>0</td>\n",
       "      <td>0</td>\n",
       "      <td>0</td>\n",
       "      <td>0</td>\n",
       "      <td>0</td>\n",
       "      <td>1</td>\n",
       "      <td>1</td>\n",
       "      <td>0</td>\n",
       "      <td>0</td>\n",
       "      <td>ad.</td>\n",
       "    </tr>\n",
       "    <tr>\n",
       "      <th>16</th>\n",
       "      <td>60</td>\n",
       "      <td>468</td>\n",
       "      <td>7.8</td>\n",
       "      <td>0</td>\n",
       "      <td>0</td>\n",
       "      <td>0</td>\n",
       "      <td>0</td>\n",
       "      <td>0</td>\n",
       "      <td>0</td>\n",
       "      <td>0</td>\n",
       "      <td>...</td>\n",
       "      <td>0</td>\n",
       "      <td>0</td>\n",
       "      <td>0</td>\n",
       "      <td>0</td>\n",
       "      <td>0</td>\n",
       "      <td>1</td>\n",
       "      <td>1</td>\n",
       "      <td>0</td>\n",
       "      <td>0</td>\n",
       "      <td>ad.</td>\n",
       "    </tr>\n",
       "    <tr>\n",
       "      <th>17</th>\n",
       "      <td>125</td>\n",
       "      <td>125</td>\n",
       "      <td>1.0</td>\n",
       "      <td>1</td>\n",
       "      <td>0</td>\n",
       "      <td>0</td>\n",
       "      <td>0</td>\n",
       "      <td>0</td>\n",
       "      <td>0</td>\n",
       "      <td>0</td>\n",
       "      <td>...</td>\n",
       "      <td>0</td>\n",
       "      <td>0</td>\n",
       "      <td>0</td>\n",
       "      <td>0</td>\n",
       "      <td>0</td>\n",
       "      <td>0</td>\n",
       "      <td>0</td>\n",
       "      <td>0</td>\n",
       "      <td>0</td>\n",
       "      <td>ad.</td>\n",
       "    </tr>\n",
       "    <tr>\n",
       "      <th>18</th>\n",
       "      <td>60</td>\n",
       "      <td>468</td>\n",
       "      <td>7.8</td>\n",
       "      <td>1</td>\n",
       "      <td>0</td>\n",
       "      <td>0</td>\n",
       "      <td>0</td>\n",
       "      <td>0</td>\n",
       "      <td>0</td>\n",
       "      <td>0</td>\n",
       "      <td>...</td>\n",
       "      <td>0</td>\n",
       "      <td>0</td>\n",
       "      <td>0</td>\n",
       "      <td>0</td>\n",
       "      <td>0</td>\n",
       "      <td>1</td>\n",
       "      <td>1</td>\n",
       "      <td>1</td>\n",
       "      <td>0</td>\n",
       "      <td>ad.</td>\n",
       "    </tr>\n",
       "    <tr>\n",
       "      <th>19</th>\n",
       "      <td>30</td>\n",
       "      <td>585</td>\n",
       "      <td>19.5</td>\n",
       "      <td>1</td>\n",
       "      <td>0</td>\n",
       "      <td>0</td>\n",
       "      <td>0</td>\n",
       "      <td>0</td>\n",
       "      <td>0</td>\n",
       "      <td>0</td>\n",
       "      <td>...</td>\n",
       "      <td>0</td>\n",
       "      <td>0</td>\n",
       "      <td>0</td>\n",
       "      <td>0</td>\n",
       "      <td>0</td>\n",
       "      <td>0</td>\n",
       "      <td>0</td>\n",
       "      <td>0</td>\n",
       "      <td>0</td>\n",
       "      <td>ad.</td>\n",
       "    </tr>\n",
       "  </tbody>\n",
       "</table>\n",
       "<p>20 rows × 1559 columns</p>\n",
       "</div>"
      ],
      "text/plain": [
       "   height width  aratio local  url*images+buttons  url*likesbooks.com  \\\n",
       "0     125   125     1.0     1                   0                   0   \n",
       "1      57   468  8.2105     1                   0                   0   \n",
       "2      33   230  6.9696     1                   0                   0   \n",
       "3      60   468     7.8     1                   0                   0   \n",
       "4      60   468     7.8     1                   0                   0   \n",
       "5      60   468     7.8     1                   0                   0   \n",
       "6      59   460  7.7966     1                   0                   0   \n",
       "7      60   234     3.9     1                   0                   0   \n",
       "8      60   468     7.8     1                   0                   0   \n",
       "9      60   468     7.8     1                   0                   0   \n",
       "10      ?     ?       ?     1                   0                   0   \n",
       "11     90    52  0.5777     1                   0                   0   \n",
       "12     90    60  0.6666     1                   0                   0   \n",
       "13     90    60  0.6666     1                   0                   0   \n",
       "14     33   230  6.9696     1                   0                   0   \n",
       "15     60   468     7.8     1                   0                   0   \n",
       "16     60   468     7.8     0                   0                   0   \n",
       "17    125   125     1.0     1                   0                   0   \n",
       "18     60   468     7.8     1                   0                   0   \n",
       "19     30   585    19.5     1                   0                   0   \n",
       "\n",
       "    url*www.slake.com  url*hydrogeologist  url*oso  url*media  ...  \\\n",
       "0                   0                   0        0          0  ...   \n",
       "1                   0                   0        0          0  ...   \n",
       "2                   0                   0        0          0  ...   \n",
       "3                   0                   0        0          0  ...   \n",
       "4                   0                   0        0          0  ...   \n",
       "5                   0                   0        0          0  ...   \n",
       "6                   0                   0        0          0  ...   \n",
       "7                   0                   0        0          0  ...   \n",
       "8                   0                   0        0          0  ...   \n",
       "9                   0                   0        0          0  ...   \n",
       "10                  0                   0        0          0  ...   \n",
       "11                  0                   0        0          0  ...   \n",
       "12                  0                   0        0          0  ...   \n",
       "13                  0                   0        0          0  ...   \n",
       "14                  0                   0        0          0  ...   \n",
       "15                  0                   0        0          0  ...   \n",
       "16                  0                   0        0          0  ...   \n",
       "17                  0                   0        0          0  ...   \n",
       "18                  0                   0        0          0  ...   \n",
       "19                  0                   0        0          0  ...   \n",
       "\n",
       "    caption*home  caption*my  caption*your  caption*in  caption*bytes  \\\n",
       "0              0           0             0           0              0   \n",
       "1              0           0             0           0              0   \n",
       "2              0           0             0           0              0   \n",
       "3              0           0             0           0              0   \n",
       "4              0           0             0           0              0   \n",
       "5              0           0             0           0              0   \n",
       "6              0           0             0           0              0   \n",
       "7              0           0             0           0              0   \n",
       "8              0           0             0           0              0   \n",
       "9              0           0             0           0              0   \n",
       "10             0           0             0           0              0   \n",
       "11             0           0             0           0              0   \n",
       "12             0           0             0           0              0   \n",
       "13             0           0             0           0              0   \n",
       "14             0           0             0           0              0   \n",
       "15             0           0             0           0              0   \n",
       "16             0           0             0           0              0   \n",
       "17             0           0             0           0              0   \n",
       "18             0           0             0           0              0   \n",
       "19             0           0             0           0              0   \n",
       "\n",
       "    caption*here  caption*click  caption*for  caption*you  Target  \n",
       "0              0              0            0            0     ad.  \n",
       "1              0              0            0            0     ad.  \n",
       "2              0              0            0            0     ad.  \n",
       "3              0              0            0            0     ad.  \n",
       "4              0              0            0            0     ad.  \n",
       "5              0              0            0            0     ad.  \n",
       "6              0              0            0            0     ad.  \n",
       "7              0              0            0            0     ad.  \n",
       "8              0              0            0            0     ad.  \n",
       "9              0              0            0            0     ad.  \n",
       "10             0              0            0            0     ad.  \n",
       "11             0              0            0            0     ad.  \n",
       "12             0              0            0            0     ad.  \n",
       "13             0              0            0            0     ad.  \n",
       "14             0              0            0            0     ad.  \n",
       "15             1              1            0            0     ad.  \n",
       "16             1              1            0            0     ad.  \n",
       "17             0              0            0            0     ad.  \n",
       "18             1              1            1            0     ad.  \n",
       "19             0              0            0            0     ad.  \n",
       "\n",
       "[20 rows x 1559 columns]"
      ]
     },
     "execution_count": 2,
     "metadata": {},
     "output_type": "execute_result"
    }
   ],
   "source": [
    "internetAd.head(20)"
   ]
  },
  {
   "cell_type": "code",
   "execution_count": 3,
   "metadata": {},
   "outputs": [
    {
     "data": {
      "text/plain": [
       "(3279, 1559)"
      ]
     },
     "execution_count": 3,
     "metadata": {},
     "output_type": "execute_result"
    }
   ],
   "source": [
    "internetAd.shape"
   ]
  },
  {
   "cell_type": "code",
   "execution_count": 4,
   "metadata": {},
   "outputs": [
    {
     "data": {
      "text/plain": [
       "height                       object\n",
       "width                        object\n",
       "aratio                       object\n",
       "local                        object\n",
       "url*images+buttons            int64\n",
       "url*likesbooks.com            int64\n",
       "url*www.slake.com             int64\n",
       "url*hydrogeologist            int64\n",
       "url*oso                       int64\n",
       "url*media                     int64\n",
       "url*peace+images              int64\n",
       "url*blipverts                 int64\n",
       "url*tkaine+kats               int64\n",
       "url*labyrinth                 int64\n",
       "url*advertising+blipverts     int64\n",
       "url*images+oso                int64\n",
       "url*area51+corridor           int64\n",
       "url*ran+gifs                  int64\n",
       "url*express-scripts.com       int64\n",
       "url*off                       int64\n",
       "url*cnet                      int64\n",
       "url*time+1998                 int64\n",
       "url*josefina3                 int64\n",
       "url*truluck.com               int64\n",
       "url*clawnext+gif              int64\n",
       "url*autopen.com               int64\n",
       "url*tvgen.com                 int64\n",
       "url*pixs                      int64\n",
       "url*heartland+5309            int64\n",
       "url*meadows+9196              int64\n",
       "                              ...  \n",
       "alt*award                     int64\n",
       "alt*services                  int64\n",
       "alt*about                     int64\n",
       "alt*for                       int64\n",
       "alt*here+to                   int64\n",
       "alt*network                   int64\n",
       "alt*you                       int64\n",
       "alt*logo                      int64\n",
       "alt*home                      int64\n",
       "alt*kat                       int64\n",
       "caption*and                   int64\n",
       "caption*home+page             int64\n",
       "caption*click+here            int64\n",
       "caption*the                   int64\n",
       "caption*pratchett             int64\n",
       "caption*here+for              int64\n",
       "caption*site                  int64\n",
       "caption*page                  int64\n",
       "caption*to                    int64\n",
       "caption*of                    int64\n",
       "caption*home                  int64\n",
       "caption*my                    int64\n",
       "caption*your                  int64\n",
       "caption*in                    int64\n",
       "caption*bytes                 int64\n",
       "caption*here                  int64\n",
       "caption*click                 int64\n",
       "caption*for                   int64\n",
       "caption*you                   int64\n",
       "Target                       object\n",
       "Length: 1559, dtype: object"
      ]
     },
     "execution_count": 4,
     "metadata": {},
     "output_type": "execute_result"
    }
   ],
   "source": [
    "internetAd.dtypes"
   ]
  },
  {
   "cell_type": "markdown",
   "metadata": {},
   "source": [
    "The dataset contains 1559 features/columns and 3279 rows/observations. It is possible to see that there is some missing data in the form of a question mark string `\" ?\"`"
   ]
  },
  {
   "cell_type": "markdown",
   "metadata": {},
   "source": [
    "### Question 1.1: Replace all the values of '   ?' with nan. And replace ad. with 1 and nonad. with 0"
   ]
  },
  {
   "cell_type": "code",
   "execution_count": 5,
   "metadata": {},
   "outputs": [],
   "source": [
    "import numpy as np\n",
    "\n",
    "#Replace \"?\" values for nan\n",
    "options = [\"?\",\" ?\" ,\" ? \",\"   ?\", \"     ?\", \"      ?\",\"       ?\",\"     ?  \",\"     ?   \"]\n",
    "for i in options:\n",
    "    internetAd.replace(i, np.nan, inplace=True)"
   ]
  },
  {
   "cell_type": "code",
   "execution_count": 6,
   "metadata": {},
   "outputs": [],
   "source": [
    "#Convert values to numeric\n",
    "sample_columns = ['height', 'width', 'aratio', 'local']\n",
    "for i in sample_columns:\n",
    "    internetAd[i] = pd.to_numeric(internetAd[i]) "
   ]
  },
  {
   "cell_type": "code",
   "execution_count": 7,
   "metadata": {},
   "outputs": [],
   "source": [
    "#Replacing ad. and nonad.\n",
    "internetAd.replace(to_replace = ['ad.','nonad.'], value = [1,0], inplace = True)"
   ]
  },
  {
   "cell_type": "markdown",
   "metadata": {},
   "source": [
    "### Question 1.1 Part 2: Check that replacing worked"
   ]
  },
  {
   "cell_type": "code",
   "execution_count": 8,
   "metadata": {},
   "outputs": [
    {
     "data": {
      "text/html": [
       "<div>\n",
       "<style scoped>\n",
       "    .dataframe tbody tr th:only-of-type {\n",
       "        vertical-align: middle;\n",
       "    }\n",
       "\n",
       "    .dataframe tbody tr th {\n",
       "        vertical-align: top;\n",
       "    }\n",
       "\n",
       "    .dataframe thead th {\n",
       "        text-align: right;\n",
       "    }\n",
       "</style>\n",
       "<table border=\"1\" class=\"dataframe\">\n",
       "  <thead>\n",
       "    <tr style=\"text-align: right;\">\n",
       "      <th></th>\n",
       "      <th>height</th>\n",
       "      <th>width</th>\n",
       "      <th>aratio</th>\n",
       "      <th>local</th>\n",
       "      <th>url*images+buttons</th>\n",
       "      <th>url*likesbooks.com</th>\n",
       "      <th>url*www.slake.com</th>\n",
       "      <th>url*hydrogeologist</th>\n",
       "      <th>url*oso</th>\n",
       "      <th>url*media</th>\n",
       "      <th>...</th>\n",
       "      <th>caption*home</th>\n",
       "      <th>caption*my</th>\n",
       "      <th>caption*your</th>\n",
       "      <th>caption*in</th>\n",
       "      <th>caption*bytes</th>\n",
       "      <th>caption*here</th>\n",
       "      <th>caption*click</th>\n",
       "      <th>caption*for</th>\n",
       "      <th>caption*you</th>\n",
       "      <th>Target</th>\n",
       "    </tr>\n",
       "  </thead>\n",
       "  <tbody>\n",
       "    <tr>\n",
       "      <th>0</th>\n",
       "      <td>125.0</td>\n",
       "      <td>125.0</td>\n",
       "      <td>1.0000</td>\n",
       "      <td>1.0</td>\n",
       "      <td>0</td>\n",
       "      <td>0</td>\n",
       "      <td>0</td>\n",
       "      <td>0</td>\n",
       "      <td>0</td>\n",
       "      <td>0</td>\n",
       "      <td>...</td>\n",
       "      <td>0</td>\n",
       "      <td>0</td>\n",
       "      <td>0</td>\n",
       "      <td>0</td>\n",
       "      <td>0</td>\n",
       "      <td>0</td>\n",
       "      <td>0</td>\n",
       "      <td>0</td>\n",
       "      <td>0</td>\n",
       "      <td>1</td>\n",
       "    </tr>\n",
       "    <tr>\n",
       "      <th>1</th>\n",
       "      <td>57.0</td>\n",
       "      <td>468.0</td>\n",
       "      <td>8.2105</td>\n",
       "      <td>1.0</td>\n",
       "      <td>0</td>\n",
       "      <td>0</td>\n",
       "      <td>0</td>\n",
       "      <td>0</td>\n",
       "      <td>0</td>\n",
       "      <td>0</td>\n",
       "      <td>...</td>\n",
       "      <td>0</td>\n",
       "      <td>0</td>\n",
       "      <td>0</td>\n",
       "      <td>0</td>\n",
       "      <td>0</td>\n",
       "      <td>0</td>\n",
       "      <td>0</td>\n",
       "      <td>0</td>\n",
       "      <td>0</td>\n",
       "      <td>1</td>\n",
       "    </tr>\n",
       "    <tr>\n",
       "      <th>2</th>\n",
       "      <td>33.0</td>\n",
       "      <td>230.0</td>\n",
       "      <td>6.9696</td>\n",
       "      <td>1.0</td>\n",
       "      <td>0</td>\n",
       "      <td>0</td>\n",
       "      <td>0</td>\n",
       "      <td>0</td>\n",
       "      <td>0</td>\n",
       "      <td>0</td>\n",
       "      <td>...</td>\n",
       "      <td>0</td>\n",
       "      <td>0</td>\n",
       "      <td>0</td>\n",
       "      <td>0</td>\n",
       "      <td>0</td>\n",
       "      <td>0</td>\n",
       "      <td>0</td>\n",
       "      <td>0</td>\n",
       "      <td>0</td>\n",
       "      <td>1</td>\n",
       "    </tr>\n",
       "    <tr>\n",
       "      <th>3</th>\n",
       "      <td>60.0</td>\n",
       "      <td>468.0</td>\n",
       "      <td>7.8000</td>\n",
       "      <td>1.0</td>\n",
       "      <td>0</td>\n",
       "      <td>0</td>\n",
       "      <td>0</td>\n",
       "      <td>0</td>\n",
       "      <td>0</td>\n",
       "      <td>0</td>\n",
       "      <td>...</td>\n",
       "      <td>0</td>\n",
       "      <td>0</td>\n",
       "      <td>0</td>\n",
       "      <td>0</td>\n",
       "      <td>0</td>\n",
       "      <td>0</td>\n",
       "      <td>0</td>\n",
       "      <td>0</td>\n",
       "      <td>0</td>\n",
       "      <td>1</td>\n",
       "    </tr>\n",
       "    <tr>\n",
       "      <th>4</th>\n",
       "      <td>60.0</td>\n",
       "      <td>468.0</td>\n",
       "      <td>7.8000</td>\n",
       "      <td>1.0</td>\n",
       "      <td>0</td>\n",
       "      <td>0</td>\n",
       "      <td>0</td>\n",
       "      <td>0</td>\n",
       "      <td>0</td>\n",
       "      <td>0</td>\n",
       "      <td>...</td>\n",
       "      <td>0</td>\n",
       "      <td>0</td>\n",
       "      <td>0</td>\n",
       "      <td>0</td>\n",
       "      <td>0</td>\n",
       "      <td>0</td>\n",
       "      <td>0</td>\n",
       "      <td>0</td>\n",
       "      <td>0</td>\n",
       "      <td>1</td>\n",
       "    </tr>\n",
       "    <tr>\n",
       "      <th>5</th>\n",
       "      <td>60.0</td>\n",
       "      <td>468.0</td>\n",
       "      <td>7.8000</td>\n",
       "      <td>1.0</td>\n",
       "      <td>0</td>\n",
       "      <td>0</td>\n",
       "      <td>0</td>\n",
       "      <td>0</td>\n",
       "      <td>0</td>\n",
       "      <td>0</td>\n",
       "      <td>...</td>\n",
       "      <td>0</td>\n",
       "      <td>0</td>\n",
       "      <td>0</td>\n",
       "      <td>0</td>\n",
       "      <td>0</td>\n",
       "      <td>0</td>\n",
       "      <td>0</td>\n",
       "      <td>0</td>\n",
       "      <td>0</td>\n",
       "      <td>1</td>\n",
       "    </tr>\n",
       "    <tr>\n",
       "      <th>6</th>\n",
       "      <td>59.0</td>\n",
       "      <td>460.0</td>\n",
       "      <td>7.7966</td>\n",
       "      <td>1.0</td>\n",
       "      <td>0</td>\n",
       "      <td>0</td>\n",
       "      <td>0</td>\n",
       "      <td>0</td>\n",
       "      <td>0</td>\n",
       "      <td>0</td>\n",
       "      <td>...</td>\n",
       "      <td>0</td>\n",
       "      <td>0</td>\n",
       "      <td>0</td>\n",
       "      <td>0</td>\n",
       "      <td>0</td>\n",
       "      <td>0</td>\n",
       "      <td>0</td>\n",
       "      <td>0</td>\n",
       "      <td>0</td>\n",
       "      <td>1</td>\n",
       "    </tr>\n",
       "    <tr>\n",
       "      <th>7</th>\n",
       "      <td>60.0</td>\n",
       "      <td>234.0</td>\n",
       "      <td>3.9000</td>\n",
       "      <td>1.0</td>\n",
       "      <td>0</td>\n",
       "      <td>0</td>\n",
       "      <td>0</td>\n",
       "      <td>0</td>\n",
       "      <td>0</td>\n",
       "      <td>0</td>\n",
       "      <td>...</td>\n",
       "      <td>0</td>\n",
       "      <td>0</td>\n",
       "      <td>0</td>\n",
       "      <td>0</td>\n",
       "      <td>0</td>\n",
       "      <td>0</td>\n",
       "      <td>0</td>\n",
       "      <td>0</td>\n",
       "      <td>0</td>\n",
       "      <td>1</td>\n",
       "    </tr>\n",
       "    <tr>\n",
       "      <th>8</th>\n",
       "      <td>60.0</td>\n",
       "      <td>468.0</td>\n",
       "      <td>7.8000</td>\n",
       "      <td>1.0</td>\n",
       "      <td>0</td>\n",
       "      <td>0</td>\n",
       "      <td>0</td>\n",
       "      <td>0</td>\n",
       "      <td>0</td>\n",
       "      <td>0</td>\n",
       "      <td>...</td>\n",
       "      <td>0</td>\n",
       "      <td>0</td>\n",
       "      <td>0</td>\n",
       "      <td>0</td>\n",
       "      <td>0</td>\n",
       "      <td>0</td>\n",
       "      <td>0</td>\n",
       "      <td>0</td>\n",
       "      <td>0</td>\n",
       "      <td>1</td>\n",
       "    </tr>\n",
       "    <tr>\n",
       "      <th>9</th>\n",
       "      <td>60.0</td>\n",
       "      <td>468.0</td>\n",
       "      <td>7.8000</td>\n",
       "      <td>1.0</td>\n",
       "      <td>0</td>\n",
       "      <td>0</td>\n",
       "      <td>0</td>\n",
       "      <td>0</td>\n",
       "      <td>0</td>\n",
       "      <td>0</td>\n",
       "      <td>...</td>\n",
       "      <td>0</td>\n",
       "      <td>0</td>\n",
       "      <td>0</td>\n",
       "      <td>0</td>\n",
       "      <td>0</td>\n",
       "      <td>0</td>\n",
       "      <td>0</td>\n",
       "      <td>0</td>\n",
       "      <td>0</td>\n",
       "      <td>1</td>\n",
       "    </tr>\n",
       "    <tr>\n",
       "      <th>10</th>\n",
       "      <td>NaN</td>\n",
       "      <td>NaN</td>\n",
       "      <td>NaN</td>\n",
       "      <td>1.0</td>\n",
       "      <td>0</td>\n",
       "      <td>0</td>\n",
       "      <td>0</td>\n",
       "      <td>0</td>\n",
       "      <td>0</td>\n",
       "      <td>0</td>\n",
       "      <td>...</td>\n",
       "      <td>0</td>\n",
       "      <td>0</td>\n",
       "      <td>0</td>\n",
       "      <td>0</td>\n",
       "      <td>0</td>\n",
       "      <td>0</td>\n",
       "      <td>0</td>\n",
       "      <td>0</td>\n",
       "      <td>0</td>\n",
       "      <td>1</td>\n",
       "    </tr>\n",
       "    <tr>\n",
       "      <th>11</th>\n",
       "      <td>90.0</td>\n",
       "      <td>52.0</td>\n",
       "      <td>0.5777</td>\n",
       "      <td>1.0</td>\n",
       "      <td>0</td>\n",
       "      <td>0</td>\n",
       "      <td>0</td>\n",
       "      <td>0</td>\n",
       "      <td>0</td>\n",
       "      <td>0</td>\n",
       "      <td>...</td>\n",
       "      <td>0</td>\n",
       "      <td>0</td>\n",
       "      <td>0</td>\n",
       "      <td>0</td>\n",
       "      <td>0</td>\n",
       "      <td>0</td>\n",
       "      <td>0</td>\n",
       "      <td>0</td>\n",
       "      <td>0</td>\n",
       "      <td>1</td>\n",
       "    </tr>\n",
       "    <tr>\n",
       "      <th>12</th>\n",
       "      <td>90.0</td>\n",
       "      <td>60.0</td>\n",
       "      <td>0.6666</td>\n",
       "      <td>1.0</td>\n",
       "      <td>0</td>\n",
       "      <td>0</td>\n",
       "      <td>0</td>\n",
       "      <td>0</td>\n",
       "      <td>0</td>\n",
       "      <td>0</td>\n",
       "      <td>...</td>\n",
       "      <td>0</td>\n",
       "      <td>0</td>\n",
       "      <td>0</td>\n",
       "      <td>0</td>\n",
       "      <td>0</td>\n",
       "      <td>0</td>\n",
       "      <td>0</td>\n",
       "      <td>0</td>\n",
       "      <td>0</td>\n",
       "      <td>1</td>\n",
       "    </tr>\n",
       "    <tr>\n",
       "      <th>13</th>\n",
       "      <td>90.0</td>\n",
       "      <td>60.0</td>\n",
       "      <td>0.6666</td>\n",
       "      <td>1.0</td>\n",
       "      <td>0</td>\n",
       "      <td>0</td>\n",
       "      <td>0</td>\n",
       "      <td>0</td>\n",
       "      <td>0</td>\n",
       "      <td>0</td>\n",
       "      <td>...</td>\n",
       "      <td>0</td>\n",
       "      <td>0</td>\n",
       "      <td>0</td>\n",
       "      <td>0</td>\n",
       "      <td>0</td>\n",
       "      <td>0</td>\n",
       "      <td>0</td>\n",
       "      <td>0</td>\n",
       "      <td>0</td>\n",
       "      <td>1</td>\n",
       "    </tr>\n",
       "    <tr>\n",
       "      <th>14</th>\n",
       "      <td>33.0</td>\n",
       "      <td>230.0</td>\n",
       "      <td>6.9696</td>\n",
       "      <td>1.0</td>\n",
       "      <td>0</td>\n",
       "      <td>0</td>\n",
       "      <td>0</td>\n",
       "      <td>0</td>\n",
       "      <td>0</td>\n",
       "      <td>0</td>\n",
       "      <td>...</td>\n",
       "      <td>0</td>\n",
       "      <td>0</td>\n",
       "      <td>0</td>\n",
       "      <td>0</td>\n",
       "      <td>0</td>\n",
       "      <td>0</td>\n",
       "      <td>0</td>\n",
       "      <td>0</td>\n",
       "      <td>0</td>\n",
       "      <td>1</td>\n",
       "    </tr>\n",
       "  </tbody>\n",
       "</table>\n",
       "<p>15 rows × 1559 columns</p>\n",
       "</div>"
      ],
      "text/plain": [
       "    height  width  aratio  local  url*images+buttons  url*likesbooks.com  \\\n",
       "0    125.0  125.0  1.0000    1.0                   0                   0   \n",
       "1     57.0  468.0  8.2105    1.0                   0                   0   \n",
       "2     33.0  230.0  6.9696    1.0                   0                   0   \n",
       "3     60.0  468.0  7.8000    1.0                   0                   0   \n",
       "4     60.0  468.0  7.8000    1.0                   0                   0   \n",
       "5     60.0  468.0  7.8000    1.0                   0                   0   \n",
       "6     59.0  460.0  7.7966    1.0                   0                   0   \n",
       "7     60.0  234.0  3.9000    1.0                   0                   0   \n",
       "8     60.0  468.0  7.8000    1.0                   0                   0   \n",
       "9     60.0  468.0  7.8000    1.0                   0                   0   \n",
       "10     NaN    NaN     NaN    1.0                   0                   0   \n",
       "11    90.0   52.0  0.5777    1.0                   0                   0   \n",
       "12    90.0   60.0  0.6666    1.0                   0                   0   \n",
       "13    90.0   60.0  0.6666    1.0                   0                   0   \n",
       "14    33.0  230.0  6.9696    1.0                   0                   0   \n",
       "\n",
       "    url*www.slake.com  url*hydrogeologist  url*oso  url*media  ...  \\\n",
       "0                   0                   0        0          0  ...   \n",
       "1                   0                   0        0          0  ...   \n",
       "2                   0                   0        0          0  ...   \n",
       "3                   0                   0        0          0  ...   \n",
       "4                   0                   0        0          0  ...   \n",
       "5                   0                   0        0          0  ...   \n",
       "6                   0                   0        0          0  ...   \n",
       "7                   0                   0        0          0  ...   \n",
       "8                   0                   0        0          0  ...   \n",
       "9                   0                   0        0          0  ...   \n",
       "10                  0                   0        0          0  ...   \n",
       "11                  0                   0        0          0  ...   \n",
       "12                  0                   0        0          0  ...   \n",
       "13                  0                   0        0          0  ...   \n",
       "14                  0                   0        0          0  ...   \n",
       "\n",
       "    caption*home  caption*my  caption*your  caption*in  caption*bytes  \\\n",
       "0              0           0             0           0              0   \n",
       "1              0           0             0           0              0   \n",
       "2              0           0             0           0              0   \n",
       "3              0           0             0           0              0   \n",
       "4              0           0             0           0              0   \n",
       "5              0           0             0           0              0   \n",
       "6              0           0             0           0              0   \n",
       "7              0           0             0           0              0   \n",
       "8              0           0             0           0              0   \n",
       "9              0           0             0           0              0   \n",
       "10             0           0             0           0              0   \n",
       "11             0           0             0           0              0   \n",
       "12             0           0             0           0              0   \n",
       "13             0           0             0           0              0   \n",
       "14             0           0             0           0              0   \n",
       "\n",
       "    caption*here  caption*click  caption*for  caption*you  Target  \n",
       "0              0              0            0            0       1  \n",
       "1              0              0            0            0       1  \n",
       "2              0              0            0            0       1  \n",
       "3              0              0            0            0       1  \n",
       "4              0              0            0            0       1  \n",
       "5              0              0            0            0       1  \n",
       "6              0              0            0            0       1  \n",
       "7              0              0            0            0       1  \n",
       "8              0              0            0            0       1  \n",
       "9              0              0            0            0       1  \n",
       "10             0              0            0            0       1  \n",
       "11             0              0            0            0       1  \n",
       "12             0              0            0            0       1  \n",
       "13             0              0            0            0       1  \n",
       "14             0              0            0            0       1  \n",
       "\n",
       "[15 rows x 1559 columns]"
      ]
     },
     "execution_count": 8,
     "metadata": {},
     "output_type": "execute_result"
    }
   ],
   "source": [
    "#Checking if the values were in fact replace\n",
    "internetAd.head(15)"
   ]
  },
  {
   "cell_type": "markdown",
   "metadata": {},
   "source": [
    "We can see that the replacement worked for both the missing data and the `Target` column."
   ]
  },
  {
   "cell_type": "markdown",
   "metadata": {},
   "source": [
    "### Make Sure that \"height\",\"width\",\"aratio\" is type - float"
   ]
  },
  {
   "cell_type": "code",
   "execution_count": 9,
   "metadata": {},
   "outputs": [
    {
     "data": {
      "text/plain": [
       "height                float64\n",
       "width                 float64\n",
       "aratio                float64\n",
       "local                 float64\n",
       "url*images+buttons      int64\n",
       "url*likesbooks.com      int64\n",
       "url*www.slake.com       int64\n",
       "url*hydrogeologist      int64\n",
       "url*oso                 int64\n",
       "url*media               int64\n",
       "dtype: object"
      ]
     },
     "execution_count": 9,
     "metadata": {},
     "output_type": "execute_result"
    }
   ],
   "source": [
    "internetAd.dtypes.head(10)"
   ]
  },
  {
   "cell_type": "code",
   "execution_count": 10,
   "metadata": {},
   "outputs": [
    {
     "data": {
      "text/plain": [
       "caption*home     int64\n",
       "caption*my       int64\n",
       "caption*your     int64\n",
       "caption*in       int64\n",
       "caption*bytes    int64\n",
       "caption*here     int64\n",
       "caption*click    int64\n",
       "caption*for      int64\n",
       "caption*you      int64\n",
       "Target           int64\n",
       "dtype: object"
      ]
     },
     "execution_count": 10,
     "metadata": {},
     "output_type": "execute_result"
    }
   ],
   "source": [
    "internetAd.dtypes.tail(10)"
   ]
  },
  {
   "cell_type": "markdown",
   "metadata": {},
   "source": [
    "It is possible to see that the columns that initially had the string value \"?\" now are *float64* datatype, which indicates that we do not have strings anymore."
   ]
  },
  {
   "cell_type": "markdown",
   "metadata": {},
   "source": [
    "### Question 1.2: Describe the statistics for each of the columns [\"height\",\"width\",\"aratio\",\"local\"] "
   ]
  },
  {
   "cell_type": "code",
   "execution_count": 11,
   "metadata": {},
   "outputs": [
    {
     "data": {
      "text/html": [
       "<div>\n",
       "<style scoped>\n",
       "    .dataframe tbody tr th:only-of-type {\n",
       "        vertical-align: middle;\n",
       "    }\n",
       "\n",
       "    .dataframe tbody tr th {\n",
       "        vertical-align: top;\n",
       "    }\n",
       "\n",
       "    .dataframe thead th {\n",
       "        text-align: right;\n",
       "    }\n",
       "</style>\n",
       "<table border=\"1\" class=\"dataframe\">\n",
       "  <thead>\n",
       "    <tr style=\"text-align: right;\">\n",
       "      <th></th>\n",
       "      <th>height</th>\n",
       "      <th>width</th>\n",
       "      <th>aratio</th>\n",
       "      <th>local</th>\n",
       "    </tr>\n",
       "  </thead>\n",
       "  <tbody>\n",
       "    <tr>\n",
       "      <th>count</th>\n",
       "      <td>2376.000000</td>\n",
       "      <td>2378.000000</td>\n",
       "      <td>2369.000000</td>\n",
       "      <td>3264.000000</td>\n",
       "    </tr>\n",
       "    <tr>\n",
       "      <th>mean</th>\n",
       "      <td>64.021886</td>\n",
       "      <td>155.344828</td>\n",
       "      <td>3.911953</td>\n",
       "      <td>0.767157</td>\n",
       "    </tr>\n",
       "    <tr>\n",
       "      <th>std</th>\n",
       "      <td>54.868604</td>\n",
       "      <td>130.032350</td>\n",
       "      <td>6.042986</td>\n",
       "      <td>0.422708</td>\n",
       "    </tr>\n",
       "    <tr>\n",
       "      <th>min</th>\n",
       "      <td>1.000000</td>\n",
       "      <td>1.000000</td>\n",
       "      <td>0.001500</td>\n",
       "      <td>0.000000</td>\n",
       "    </tr>\n",
       "    <tr>\n",
       "      <th>25%</th>\n",
       "      <td>25.000000</td>\n",
       "      <td>80.000000</td>\n",
       "      <td>1.035700</td>\n",
       "      <td>1.000000</td>\n",
       "    </tr>\n",
       "    <tr>\n",
       "      <th>50%</th>\n",
       "      <td>51.000000</td>\n",
       "      <td>110.000000</td>\n",
       "      <td>2.102000</td>\n",
       "      <td>1.000000</td>\n",
       "    </tr>\n",
       "    <tr>\n",
       "      <th>75%</th>\n",
       "      <td>85.250000</td>\n",
       "      <td>184.000000</td>\n",
       "      <td>5.333300</td>\n",
       "      <td>1.000000</td>\n",
       "    </tr>\n",
       "    <tr>\n",
       "      <th>max</th>\n",
       "      <td>640.000000</td>\n",
       "      <td>640.000000</td>\n",
       "      <td>60.000000</td>\n",
       "      <td>1.000000</td>\n",
       "    </tr>\n",
       "  </tbody>\n",
       "</table>\n",
       "</div>"
      ],
      "text/plain": [
       "            height        width       aratio        local\n",
       "count  2376.000000  2378.000000  2369.000000  3264.000000\n",
       "mean     64.021886   155.344828     3.911953     0.767157\n",
       "std      54.868604   130.032350     6.042986     0.422708\n",
       "min       1.000000     1.000000     0.001500     0.000000\n",
       "25%      25.000000    80.000000     1.035700     1.000000\n",
       "50%      51.000000   110.000000     2.102000     1.000000\n",
       "75%      85.250000   184.000000     5.333300     1.000000\n",
       "max     640.000000   640.000000    60.000000     1.000000"
      ]
     },
     "execution_count": 11,
     "metadata": {},
     "output_type": "execute_result"
    }
   ],
   "source": [
    "internetAd[sample_columns].describe()"
   ]
  },
  {
   "cell_type": "markdown",
   "metadata": {},
   "source": [
    "### Question 2.1: Caluclate and display the (mean, median, mode) for each of the columns [\"height\",\"width\",\"aratio\",\"local\"] as well as the overall statistics using describe method."
   ]
  },
  {
   "cell_type": "code",
   "execution_count": 12,
   "metadata": {},
   "outputs": [
    {
     "data": {
      "text/html": [
       "<div>\n",
       "<style scoped>\n",
       "    .dataframe tbody tr th:only-of-type {\n",
       "        vertical-align: middle;\n",
       "    }\n",
       "\n",
       "    .dataframe tbody tr th {\n",
       "        vertical-align: top;\n",
       "    }\n",
       "\n",
       "    .dataframe thead th {\n",
       "        text-align: right;\n",
       "    }\n",
       "</style>\n",
       "<table border=\"1\" class=\"dataframe\">\n",
       "  <thead>\n",
       "    <tr style=\"text-align: right;\">\n",
       "      <th></th>\n",
       "      <th>mean</th>\n",
       "      <th>median</th>\n",
       "      <th>mode</th>\n",
       "    </tr>\n",
       "  </thead>\n",
       "  <tbody>\n",
       "    <tr>\n",
       "      <th>aratio</th>\n",
       "      <td>3.911953</td>\n",
       "      <td>2.102</td>\n",
       "      <td>1.0</td>\n",
       "    </tr>\n",
       "    <tr>\n",
       "      <th>height</th>\n",
       "      <td>64.021886</td>\n",
       "      <td>51.000</td>\n",
       "      <td>60.0</td>\n",
       "    </tr>\n",
       "    <tr>\n",
       "      <th>local</th>\n",
       "      <td>0.767157</td>\n",
       "      <td>1.000</td>\n",
       "      <td>1.0</td>\n",
       "    </tr>\n",
       "    <tr>\n",
       "      <th>width</th>\n",
       "      <td>155.344828</td>\n",
       "      <td>110.000</td>\n",
       "      <td>468.0</td>\n",
       "    </tr>\n",
       "  </tbody>\n",
       "</table>\n",
       "</div>"
      ],
      "text/plain": [
       "              mean   median   mode\n",
       "aratio    3.911953    2.102    1.0\n",
       "height   64.021886   51.000   60.0\n",
       "local     0.767157    1.000    1.0\n",
       "width   155.344828  110.000  468.0"
      ]
     },
     "execution_count": 12,
     "metadata": {},
     "output_type": "execute_result"
    }
   ],
   "source": [
    "#Mean, Median & Mode\n",
    "import statistics as st\n",
    "\n",
    "mean_list = []\n",
    "median_list = []\n",
    "mode_list = []\n",
    "\n",
    "for i in sample_columns:\n",
    "    mean = np.mean(internetAd[i])\n",
    "    median = internetAd[i].median()\n",
    "    mode = st.mode(internetAd[i])\n",
    "    mean_list.append(mean)\n",
    "    median_list.append(median)\n",
    "    mode_list.append(mode)\n",
    "    \n",
    "mean_dic = {sample_columns[i]: mean_list[i] for i in range(len(mean_list))}\n",
    "median_dic = {sample_columns[i]: median_list[i] for i in range(len(median_list))}\n",
    "mode_dic = {sample_columns[i]: mode_list[i] for i in range(len(mode_list))}\n",
    "\n",
    "df_summary = [mean_dic,median_dic,mode_dic]\n",
    "columns_summary = ['mean','median','mode']\n",
    "df_summary = pd.DataFrame(df_summary)\n",
    "stats_summary = df_summary.T\n",
    "stats_summary.columns = columns_summary\n",
    "stats_summary"
   ]
  },
  {
   "cell_type": "markdown",
   "metadata": {},
   "source": [
    "### Question 2.2: Replace nan values for each of the [\"height\",\"width\",\"aratio\",\"local\"] with the respective median value"
   ]
  },
  {
   "cell_type": "code",
   "execution_count": 13,
   "metadata": {},
   "outputs": [],
   "source": [
    "for i in sample_columns:\n",
    "    internetAd[i].fillna(internetAd[i].median(), inplace=True)"
   ]
  },
  {
   "cell_type": "markdown",
   "metadata": {},
   "source": [
    "### Question 3.1: Plot the distribution of each of [\"height\",\"width\",\"aratio\",\"local\"]"
   ]
  },
  {
   "cell_type": "code",
   "execution_count": 14,
   "metadata": {},
   "outputs": [
    {
     "data": {
      "image/png": "[encoded data removed]",
      "text/plain": [
       "<Figure size 360x216 with 1 Axes>"
      ]
     },
     "metadata": {
      "needs_background": "light"
     },
     "output_type": "display_data"
    },
    {
     "data": {
      "image/png": "[encoded data removed]",
      "text/plain": [
       "<Figure size 360x216 with 1 Axes>"
      ]
     },
     "metadata": {
      "needs_background": "light"
     },
     "output_type": "display_data"
    },
    {
     "data": {
      "image/png": "[encoded data removed]",
      "text/plain": [
       "<Figure size 360x216 with 1 Axes>"
      ]
     },
     "metadata": {
      "needs_background": "light"
     },
     "output_type": "display_data"
    },
    {
     "data": {
      "image/png": "[encoded data removed]",
      "text/plain": [
       "<Figure size 360x216 with 1 Axes>"
      ]
     },
     "metadata": {
      "needs_background": "light"
     },
     "output_type": "display_data"
    }
   ],
   "source": [
    "import seaborn as sns\n",
    "import matplotlib.pyplot as plt\n",
    "%matplotlib inline\n",
    "\n",
    "def hist_plot(df,a):\n",
    "    df[a].hist(figsize = (5,3))\n",
    "    plt.xlabel(a, fontsize = 15)\n",
    "    plt.ylabel('Frequency',fontsize = 15)\n",
    "    plt.tick_params(axis=\"x\", labelsize=10)\n",
    "    plt.tick_params(axis=\"y\", labelsize=10)\n",
    "    plt.grid(True)\n",
    "    plt.show()\n",
    "\n",
    "for i in sample_columns:\n",
    "    hist_plot(internetAd, i)"
   ]
  },
  {
   "cell_type": "markdown",
   "metadata": {},
   "source": [
    "### Question 3.2: You have noticed the wide variation across the different features. As a result, let's normalize the features using [MinMaxScalar](https://scikit-learn.org/stable/modules/generated/sklearn.preprocessing.MinMaxScaler.html) method. Before we do that, we need to split the data into training and testing."
   ]
  },
  {
   "cell_type": "markdown",
   "metadata": {},
   "source": [
    "## The `X_test_final` & `y_test_final` have been reserved for the final test once the model has been chosen."
   ]
  },
  {
   "cell_type": "markdown",
   "metadata": {},
   "source": [
    "#### Note: For this analysis the dataset would be split into `train` and `test`, after that the train set would be further split into `train` and `validation`."
   ]
  },
  {
   "cell_type": "code",
   "execution_count": 15,
   "metadata": {},
   "outputs": [],
   "source": [
    "from sklearn.model_selection import train_test_split\n",
    "\n",
    "#Splitting the dataset\n",
    "columns_no_target = internetAd.columns.to_list()\n",
    "columns_no_target.remove('Target')\n",
    "X = internetAd[columns_no_target]\n",
    "y = internetAd['Target']\n",
    "\n",
    "X_train_original, X_test_final, y_train_original, y_test_final = train_test_split(X, y, test_size=0.2, random_state=42)"
   ]
  },
  {
   "cell_type": "markdown",
   "metadata": {},
   "source": [
    "## A further split is used to obtain the `train` & `validation` set."
   ]
  },
  {
   "cell_type": "code",
   "execution_count": 16,
   "metadata": {},
   "outputs": [],
   "source": [
    "X_train, X_test, y_train, y_test = train_test_split(X_train_original, y_train_original, test_size=0.2, random_state=42)"
   ]
  },
  {
   "cell_type": "code",
   "execution_count": 17,
   "metadata": {},
   "outputs": [],
   "source": [
    "from sklearn.preprocessing import MinMaxScaler\n",
    "\n",
    "#Minmax normalization\n",
    "scaler = MinMaxScaler()\n",
    "scaler.fit(X_train)\n",
    "\n",
    "X_train_minmax_scaled = scaler.transform(X_train)\n",
    "X_test_minmax_scaled = scaler.transform(X_test)"
   ]
  },
  {
   "cell_type": "markdown",
   "metadata": {},
   "source": [
    "### Question 3.3: Lets build another training set where features are normalized using [StandardScalar](https://scikit-learn.org/stable/modules/generated/sklearn.preprocessing.StandardScaler.html)."
   ]
  },
  {
   "cell_type": "code",
   "execution_count": 18,
   "metadata": {},
   "outputs": [],
   "source": [
    "from sklearn.preprocessing import StandardScaler\n",
    "\n",
    "#StdScalar normalization\n",
    "sscaler = StandardScaler()\n",
    "sscaler.fit(X_train)\n",
    "\n",
    "X_train_std_scaled = sscaler.transform(X_train)\n",
    "X_test_std_scaled = sscaler.transform(X_test)"
   ]
  },
  {
   "cell_type": "markdown",
   "metadata": {},
   "source": [
    "### Question 4.1: Apply [LogisticRegression](https://scikit-learn.org/stable/modules/generated/sklearn.linear_model.LogisticRegression.html) to the above minmax scaled dataset with class_weight='balanced', solver='saga', and max_iter=1000. Calculate Accuracy, Confusion Matrix, Precision, and Recall.\n"
   ]
  },
  {
   "cell_type": "markdown",
   "metadata": {},
   "source": [
    "## Logistic Regression Using minmax normalized data (l1,l2 & elasticnet)"
   ]
  },
  {
   "cell_type": "code",
   "execution_count": 19,
   "metadata": {},
   "outputs": [],
   "source": [
    "from sklearn.linear_model import LogisticRegression\n",
    "\n",
    "log_reg_sk_l2 = LogisticRegression(class_weight = 'balanced',\n",
    "                                solver = 'saga', \n",
    "                                max_iter = 1000)\n",
    "\n",
    "log_reg_sk_l2.fit(X_train_minmax_scaled, y_train)\n",
    "y_predicted_l2 = log_reg_sk_l2.predict(X_test_minmax_scaled)"
   ]
  },
  {
   "cell_type": "code",
   "execution_count": 20,
   "metadata": {},
   "outputs": [
    {
     "data": {
      "image/png": "[encoded data removed]",
      "text/plain": [
       "<Figure size 432x288 with 2 Axes>"
      ]
     },
     "metadata": {
      "needs_background": "light"
     },
     "output_type": "display_data"
    }
   ],
   "source": [
    "from sklearn.metrics import (classification_report, confusion_matrix, accuracy_score, precision_score, recall_score, f1_score)\n",
    "\n",
    "#Confusion matrix\n",
    "cm_l2 = confusion_matrix(y_test, y_predicted_l2)\n",
    "\n",
    "def confusion_matrix_plot(cm):\n",
    "    fig, ax = plt.subplots()\n",
    "    class_names=[1,0] # name of classes\n",
    "    tick_marks = np.arange(len(class_names))\n",
    "    plt.xticks(tick_marks, class_names)\n",
    "    plt.yticks(tick_marks, class_names)\n",
    "    sns.heatmap(pd.DataFrame(cm), annot=True, cmap=\"YlGnBu\" ,fmt='g')\n",
    "    plt.title('Confusion matrix', y=1.1)\n",
    "    plt.ylabel('Actual label')\n",
    "    plt.xlabel('Predicted label')\n",
    "\n",
    "confusion_matrix_plot(cm_l2)"
   ]
  },
  {
   "cell_type": "code",
   "execution_count": 21,
   "metadata": {},
   "outputs": [
    {
     "name": "stdout",
     "output_type": "stream",
     "text": [
      "              precision    recall  f1-score   support\n",
      "\n",
      "           0      0.982     0.973     0.977       446\n",
      "           1      0.855     0.899     0.877        79\n",
      "\n",
      "    accuracy                          0.962       525\n",
      "   macro avg      0.919     0.936     0.927       525\n",
      "weighted avg      0.963     0.962     0.962       525\n",
      "\n"
     ]
    }
   ],
   "source": [
    "print(classification_report(y_test, y_predicted_l2, digits=3))\n",
    "\n",
    "accuracy_l2 = accuracy_score(y_test, y_predicted_l2)\n",
    "recall_l2 = recall_score(y_test, y_predicted_l2)\n",
    "precision_l2 = precision_score(y_test, y_predicted_l2)"
   ]
  },
  {
   "cell_type": "code",
   "execution_count": 22,
   "metadata": {},
   "outputs": [
    {
     "data": {
      "text/plain": [
       "0.8554216867469879"
      ]
     },
     "execution_count": 22,
     "metadata": {},
     "output_type": "execute_result"
    }
   ],
   "source": [
    "precision_l2"
   ]
  },
  {
   "cell_type": "markdown",
   "metadata": {},
   "source": [
    "### Question 4.2: Repeat question 4.1 setting penalty to {‘l1’,'l2', ‘elasticnet’}. \n",
    "- Set C=0.1 for l1.\n",
    "- Set l1_ratio=0.5 for elasticnet.\n",
    "\n",
    "**The l2 is the default choice**"
   ]
  },
  {
   "cell_type": "code",
   "execution_count": 23,
   "metadata": {},
   "outputs": [
    {
     "name": "stdout",
     "output_type": "stream",
     "text": [
      "              precision    recall  f1-score   support\n",
      "\n",
      "           0      0.969     0.966     0.967       446\n",
      "           1      0.812     0.823     0.818        79\n",
      "\n",
      "    accuracy                          0.945       525\n",
      "   macro avg      0.891     0.895     0.893       525\n",
      "weighted avg      0.945     0.945     0.945       525\n",
      "\n"
     ]
    },
    {
     "data": {
      "image/png": "[encoded data removed]",
      "text/plain": [
       "<Figure size 432x288 with 2 Axes>"
      ]
     },
     "metadata": {
      "needs_background": "light"
     },
     "output_type": "display_data"
    }
   ],
   "source": [
    "#penalty='l1'\n",
    "log_reg_sk_l1 = LogisticRegression(penalty = 'l1',\n",
    "                                C = 0.1,\n",
    "                                class_weight = 'balanced',\n",
    "                                solver = 'saga', \n",
    "                                max_iter = 1000)\n",
    "log_reg_sk_l1.fit(X_train_minmax_scaled, y_train)\n",
    "y_predicted_l1 = log_reg_sk_l1.predict(X_test_minmax_scaled)\n",
    "\n",
    "cm_l1 = confusion_matrix(y_test, y_predicted_l1)\n",
    "confusion_matrix_plot(cm_l1)\n",
    "\n",
    "print(classification_report(y_test, y_predicted_l1, digits=3))\n",
    "accuracy_l1 = accuracy_score(y_test, y_predicted_l1)\n",
    "recall_l1 = recall_score(y_test, y_predicted_l1)\n",
    "precision_l1 = precision_score(y_test, y_predicted_l1)"
   ]
  },
  {
   "cell_type": "code",
   "execution_count": 24,
   "metadata": {},
   "outputs": [
    {
     "name": "stdout",
     "output_type": "stream",
     "text": [
      "              precision    recall  f1-score   support\n",
      "\n",
      "           0      0.980     0.975     0.978       446\n",
      "           1      0.864     0.886     0.875        79\n",
      "\n",
      "    accuracy                          0.962       525\n",
      "   macro avg      0.922     0.931     0.926       525\n",
      "weighted avg      0.962     0.962     0.962       525\n",
      "\n"
     ]
    },
    {
     "data": {
      "image/png": "[encoded data removed]",
      "text/plain": [
       "<Figure size 432x288 with 2 Axes>"
      ]
     },
     "metadata": {
      "needs_background": "light"
     },
     "output_type": "display_data"
    }
   ],
   "source": [
    "#penalty='elasticnet'\n",
    "log_reg_sk_e = LogisticRegression(penalty = 'elasticnet',\n",
    "                                  class_weight = 'balanced',\n",
    "                                  solver = 'saga', \n",
    "                                  max_iter = 1000,\n",
    "                                  l1_ratio = 0.5)\n",
    "log_reg_sk_e.fit(X_train_minmax_scaled, y_train)\n",
    "y_predicted_e = log_reg_sk_e.predict(X_test_minmax_scaled)\n",
    "\n",
    "cm_e = confusion_matrix(y_test, y_predicted_e)\n",
    "confusion_matrix_plot(cm_e)\n",
    "\n",
    "print(classification_report(y_test, y_predicted_e, digits=3))\n",
    "accuracy_e = accuracy_score(y_test, y_predicted_e)\n",
    "recall_e = recall_score(y_test, y_predicted_e)\n",
    "precision_e = precision_score(y_test, y_predicted_e)"
   ]
  },
  {
   "cell_type": "code",
   "execution_count": 25,
   "metadata": {},
   "outputs": [
    {
     "data": {
      "text/html": [
       "<div>\n",
       "<style scoped>\n",
       "    .dataframe tbody tr th:only-of-type {\n",
       "        vertical-align: middle;\n",
       "    }\n",
       "\n",
       "    .dataframe tbody tr th {\n",
       "        vertical-align: top;\n",
       "    }\n",
       "\n",
       "    .dataframe thead th {\n",
       "        text-align: right;\n",
       "    }\n",
       "</style>\n",
       "<table border=\"1\" class=\"dataframe\">\n",
       "  <thead>\n",
       "    <tr style=\"text-align: right;\">\n",
       "      <th></th>\n",
       "      <th>l2_minmax</th>\n",
       "      <th>l1_minmax</th>\n",
       "      <th>e_minmax</th>\n",
       "    </tr>\n",
       "  </thead>\n",
       "  <tbody>\n",
       "    <tr>\n",
       "      <th>accuracy</th>\n",
       "      <td>0.961905</td>\n",
       "      <td>0.944762</td>\n",
       "      <td>0.961905</td>\n",
       "    </tr>\n",
       "    <tr>\n",
       "      <th>precision</th>\n",
       "      <td>0.855422</td>\n",
       "      <td>0.812500</td>\n",
       "      <td>0.864198</td>\n",
       "    </tr>\n",
       "    <tr>\n",
       "      <th>recall</th>\n",
       "      <td>0.898734</td>\n",
       "      <td>0.822785</td>\n",
       "      <td>0.886076</td>\n",
       "    </tr>\n",
       "  </tbody>\n",
       "</table>\n",
       "</div>"
      ],
      "text/plain": [
       "           l2_minmax  l1_minmax  e_minmax\n",
       "accuracy    0.961905   0.944762  0.961905\n",
       "precision   0.855422   0.812500  0.864198\n",
       "recall      0.898734   0.822785  0.886076"
      ]
     },
     "execution_count": 25,
     "metadata": {},
     "output_type": "execute_result"
    }
   ],
   "source": [
    "performance = ['accuracy', 'recall', 'precision']\n",
    "values_l2 = [accuracy_l2, recall_l2, precision_l2]\n",
    "values_l1 = [accuracy_l1, recall_l1, precision_l1]\n",
    "values_e = [accuracy_e, recall_e, precision_e]\n",
    "\n",
    "l2_dic = {performance[i]: values_l2[i] for i in range(len(values_l2))}\n",
    "l1_dic = {performance[i]: values_l1[i] for i in range(len(values_l1))}\n",
    "e_dic = {performance[i]: values_e[i] for i in range(len(values_e))}\n",
    "\n",
    "df_1 = [l2_dic,l1_dic,e_dic]\n",
    "columns_1 = ['l2_minmax','l1_minmax','e_minmax']\n",
    "df_1 = pd.DataFrame(df_1)\n",
    "comparison_1 = df_1.T\n",
    "comparison_1.columns = columns_1\n",
    "comparison_1"
   ]
  },
  {
   "cell_type": "code",
   "execution_count": 26,
   "metadata": {},
   "outputs": [
    {
     "data": {
      "text/plain": [
       "<Figure size 432x288 with 0 Axes>"
      ]
     },
     "metadata": {},
     "output_type": "display_data"
    },
    {
     "data": {
      "image/png": "[encoded data removed]",
      "text/plain": [
       "<Figure size 432x288 with 1 Axes>"
      ]
     },
     "metadata": {
      "needs_background": "light"
     },
     "output_type": "display_data"
    }
   ],
   "source": [
    "def comparison_plot(a):\n",
    "    plt.figure() \n",
    "    a.plot()\n",
    "    plt.ylabel('Performance',fontsize = 15)\n",
    "    plt.tick_params(axis=\"x\", labelsize=12)\n",
    "    plt.tick_params(axis=\"y\", labelsize=10)\n",
    "    plt.grid(True)\n",
    "    plt.legend(loc='best')\n",
    "    plt.show()\n",
    "\n",
    "comparison_plot(comparison_1)"
   ]
  },
  {
   "cell_type": "markdown",
   "metadata": {},
   "source": [
    "### Question 5: How do the three models compare? How did you make the comparison?\n",
    "\n",
    "From the table and plot above it is possible to see that the model using `l2` performs slighly better that the model using `elasticnet` as the regularization method. But both `l2` & `elasticnet` performed better than the model using `l1` regularization.\n",
    "\n",
    "The comparison was done using hold out data (validation data), using the same training data set for the 3 models and the same validation data to determine the performance. After all the models (models with different hyperparameters) have been tested using validation data and the final model is chosen, then a final test will be perform using data not seen by the model before."
   ]
  },
  {
   "cell_type": "markdown",
   "metadata": {},
   "source": [
    "## Logistic Regression Using std normalized data (l1,l2 & elasticnet)"
   ]
  },
  {
   "cell_type": "markdown",
   "metadata": {},
   "source": [
    "### Question 6: Repeat steps 4.1-4.3 with the standard scaled dataset"
   ]
  },
  {
   "cell_type": "code",
   "execution_count": 27,
   "metadata": {},
   "outputs": [
    {
     "name": "stdout",
     "output_type": "stream",
     "text": [
      "              precision    recall  f1-score   support\n",
      "\n",
      "           0      0.982     0.973     0.977       446\n",
      "           1      0.855     0.899     0.877        79\n",
      "\n",
      "    accuracy                          0.962       525\n",
      "   macro avg      0.919     0.936     0.927       525\n",
      "weighted avg      0.963     0.962     0.962       525\n",
      "\n"
     ]
    },
    {
     "name": "stderr",
     "output_type": "stream",
     "text": [
      "C:\\Users\\ly266e\\AppData\\Roaming\\Python\\Python37\\site-packages\\sklearn\\linear_model\\_sag.py:329: ConvergenceWarning: The max_iter was reached which means the coef_ did not converge\n",
      "  \"the coef_ did not converge\", ConvergenceWarning)\n"
     ]
    },
    {
     "data": {
      "image/png": "[encoded data removed]",
      "text/plain": [
       "<Figure size 432x288 with 2 Axes>"
      ]
     },
     "metadata": {
      "needs_background": "light"
     },
     "output_type": "display_data"
    }
   ],
   "source": [
    "#l2\n",
    "log_reg_sk_std_l2 = LogisticRegression(class_weight = 'balanced',\n",
    "                                       solver = 'saga', \n",
    "                                       max_iter = 1000)\n",
    "\n",
    "log_reg_sk_std_l2.fit(X_train_std_scaled, y_train)\n",
    "y_predicted_std_l2 = log_reg_sk_std_l2.predict(X_test_std_scaled)\n",
    "\n",
    "cm_std_l2 = confusion_matrix(y_test, y_predicted_std_l2)\n",
    "confusion_matrix_plot(cm_std_l2)\n",
    "\n",
    "print(classification_report(y_test, y_predicted_std_l2, digits=3))\n",
    "accuracy_std_l2 = accuracy_score(y_test, y_predicted_std_l2)\n",
    "recall_std_l2 = recall_score(y_test, y_predicted_std_l2)\n",
    "precision_std_l2 = precision_score(y_test, y_predicted_std_l2)"
   ]
  },
  {
   "cell_type": "code",
   "execution_count": 28,
   "metadata": {},
   "outputs": [
    {
     "name": "stdout",
     "output_type": "stream",
     "text": [
      "              precision    recall  f1-score   support\n",
      "\n",
      "           0      0.980     0.971     0.975       446\n",
      "           1      0.843     0.886     0.864        79\n",
      "\n",
      "    accuracy                          0.958       525\n",
      "   macro avg      0.912     0.928     0.920       525\n",
      "weighted avg      0.959     0.958     0.959       525\n",
      "\n"
     ]
    },
    {
     "name": "stderr",
     "output_type": "stream",
     "text": [
      "C:\\Users\\ly266e\\AppData\\Roaming\\Python\\Python37\\site-packages\\sklearn\\linear_model\\_sag.py:329: ConvergenceWarning: The max_iter was reached which means the coef_ did not converge\n",
      "  \"the coef_ did not converge\", ConvergenceWarning)\n"
     ]
    },
    {
     "data": {
      "image/png": "[encoded data removed]",
      "text/plain": [
       "<Figure size 432x288 with 2 Axes>"
      ]
     },
     "metadata": {
      "needs_background": "light"
     },
     "output_type": "display_data"
    }
   ],
   "source": [
    "#l1\n",
    "log_reg_sk_std_l1 = LogisticRegression(penalty = 'l1',\n",
    "                                C = 0.1,\n",
    "                                class_weight = 'balanced',\n",
    "                                solver = 'saga', \n",
    "                                max_iter = 1000)\n",
    "\n",
    "log_reg_sk_std_l1.fit(X_train_std_scaled, y_train)\n",
    "y_predicted_std_l1 = log_reg_sk_std_l1.predict(X_test_std_scaled)\n",
    "\n",
    "cm_std_l1 = confusion_matrix(y_test, y_predicted_std_l1)\n",
    "confusion_matrix_plot(cm_std_l1)\n",
    "\n",
    "print(classification_report(y_test, y_predicted_std_l1, digits=3))\n",
    "accuracy_std_l1 = accuracy_score(y_test, y_predicted_std_l1)\n",
    "recall_std_l1 = recall_score(y_test, y_predicted_std_l1)\n",
    "precision_std_l1 = precision_score(y_test, y_predicted_std_l1)"
   ]
  },
  {
   "cell_type": "code",
   "execution_count": 29,
   "metadata": {},
   "outputs": [
    {
     "name": "stdout",
     "output_type": "stream",
     "text": [
      "              precision    recall  f1-score   support\n",
      "\n",
      "           0      0.980     0.971     0.975       446\n",
      "           1      0.843     0.886     0.864        79\n",
      "\n",
      "    accuracy                          0.958       525\n",
      "   macro avg      0.912     0.928     0.920       525\n",
      "weighted avg      0.959     0.958     0.959       525\n",
      "\n"
     ]
    },
    {
     "name": "stderr",
     "output_type": "stream",
     "text": [
      "C:\\Users\\ly266e\\AppData\\Roaming\\Python\\Python37\\site-packages\\sklearn\\linear_model\\_sag.py:329: ConvergenceWarning: The max_iter was reached which means the coef_ did not converge\n",
      "  \"the coef_ did not converge\", ConvergenceWarning)\n"
     ]
    },
    {
     "data": {
      "image/png": "[encoded data removed]",
      "text/plain": [
       "<Figure size 432x288 with 2 Axes>"
      ]
     },
     "metadata": {
      "needs_background": "light"
     },
     "output_type": "display_data"
    }
   ],
   "source": [
    "#elasticnet\n",
    "log_reg_sk_std_e = LogisticRegression(penalty = 'elasticnet',\n",
    "                                  class_weight = 'balanced',\n",
    "                                  solver = 'saga', \n",
    "                                  max_iter = 1000,\n",
    "                                  l1_ratio = 0.5)\n",
    "\n",
    "log_reg_sk_std_e.fit(X_train_std_scaled, y_train)\n",
    "y_predicted_std_e = log_reg_sk_std_e.predict(X_test_std_scaled)\n",
    "\n",
    "cm_std_e = confusion_matrix(y_test, y_predicted_std_e)\n",
    "confusion_matrix_plot(cm_std_e)\n",
    "\n",
    "print(classification_report(y_test, y_predicted_std_e, digits=3))\n",
    "accuracy_std_e = accuracy_score(y_test, y_predicted_std_e)\n",
    "recall_std_e = recall_score(y_test, y_predicted_std_e)\n",
    "precision_std_e = precision_score(y_test, y_predicted_std_e)"
   ]
  },
  {
   "cell_type": "code",
   "execution_count": 30,
   "metadata": {},
   "outputs": [
    {
     "data": {
      "text/html": [
       "<div>\n",
       "<style scoped>\n",
       "    .dataframe tbody tr th:only-of-type {\n",
       "        vertical-align: middle;\n",
       "    }\n",
       "\n",
       "    .dataframe tbody tr th {\n",
       "        vertical-align: top;\n",
       "    }\n",
       "\n",
       "    .dataframe thead th {\n",
       "        text-align: right;\n",
       "    }\n",
       "</style>\n",
       "<table border=\"1\" class=\"dataframe\">\n",
       "  <thead>\n",
       "    <tr style=\"text-align: right;\">\n",
       "      <th></th>\n",
       "      <th>l2_minmax</th>\n",
       "      <th>l1_minmax</th>\n",
       "      <th>e_minmax</th>\n",
       "      <th>l2_std</th>\n",
       "      <th>l1_std</th>\n",
       "      <th>e_std</th>\n",
       "    </tr>\n",
       "  </thead>\n",
       "  <tbody>\n",
       "    <tr>\n",
       "      <th>accuracy</th>\n",
       "      <td>0.961905</td>\n",
       "      <td>0.944762</td>\n",
       "      <td>0.961905</td>\n",
       "      <td>0.961905</td>\n",
       "      <td>0.958095</td>\n",
       "      <td>0.958095</td>\n",
       "    </tr>\n",
       "    <tr>\n",
       "      <th>precision</th>\n",
       "      <td>0.855422</td>\n",
       "      <td>0.812500</td>\n",
       "      <td>0.864198</td>\n",
       "      <td>0.855422</td>\n",
       "      <td>0.843373</td>\n",
       "      <td>0.843373</td>\n",
       "    </tr>\n",
       "    <tr>\n",
       "      <th>recall</th>\n",
       "      <td>0.898734</td>\n",
       "      <td>0.822785</td>\n",
       "      <td>0.886076</td>\n",
       "      <td>0.898734</td>\n",
       "      <td>0.886076</td>\n",
       "      <td>0.886076</td>\n",
       "    </tr>\n",
       "  </tbody>\n",
       "</table>\n",
       "</div>"
      ],
      "text/plain": [
       "           l2_minmax  l1_minmax  e_minmax    l2_std    l1_std     e_std\n",
       "accuracy    0.961905   0.944762  0.961905  0.961905  0.958095  0.958095\n",
       "precision   0.855422   0.812500  0.864198  0.855422  0.843373  0.843373\n",
       "recall      0.898734   0.822785  0.886076  0.898734  0.886076  0.886076"
      ]
     },
     "execution_count": 30,
     "metadata": {},
     "output_type": "execute_result"
    }
   ],
   "source": [
    "#Summary on performance\n",
    "performance = ['accuracy', 'recall', 'precision']\n",
    "values_l2 = [accuracy_l2, recall_l2, precision_l2]\n",
    "values_l1 = [accuracy_l1, recall_l1, precision_l1]\n",
    "values_e = [accuracy_e, recall_e, precision_e]\n",
    "values_std_l2 = [accuracy_std_l2, recall_std_l2, precision_std_l2]\n",
    "values_std_l1 = [accuracy_std_l1, recall_std_l1, precision_std_l1]\n",
    "values_std_e = [accuracy_std_e, recall_std_e, precision_std_e]\n",
    "\n",
    "l2_dic = {performance[i]: values_l2[i] for i in range(len(values_l2))}\n",
    "l1_dic = {performance[i]: values_l1[i] for i in range(len(values_l1))}\n",
    "e_dic = {performance[i]: values_e[i] for i in range(len(values_e))}\n",
    "l2_std_dic = {performance[i]: values_std_l2[i] for i in range(len(values_std_l2))}\n",
    "l1_std_dic = {performance[i]: values_std_l1[i] for i in range(len(values_std_l1))}\n",
    "e_std_dic = {performance[i]: values_std_e[i] for i in range(len(values_std_e))}\n",
    "\n",
    "df = [l2_dic,l1_dic,e_dic,l2_std_dic,l1_std_dic,e_std_dic]\n",
    "columns = ['l2_minmax','l1_minmax','e_minmax','l2_std','l1_std','e_std']\n",
    "df = pd.DataFrame(df)\n",
    "comparison = df.T\n",
    "comparison.columns = columns\n",
    "comparison"
   ]
  },
  {
   "cell_type": "code",
   "execution_count": 31,
   "metadata": {},
   "outputs": [
    {
     "data": {
      "text/plain": [
       "<Figure size 432x288 with 0 Axes>"
      ]
     },
     "metadata": {},
     "output_type": "display_data"
    },
    {
     "data": {
      "image/png": "[encoded data removed]",
      "text/plain": [
       "<Figure size 432x288 with 1 Axes>"
      ]
     },
     "metadata": {
      "needs_background": "light"
     },
     "output_type": "display_data"
    }
   ],
   "source": [
    "comparison_plot(comparison)"
   ]
  },
  {
   "cell_type": "markdown",
   "metadata": {},
   "source": [
    "## Chosen model.\n",
    "\n",
    "After looking at the performance data coming from the validation set, it was decided to use the model using `l2` regularization using the data that was transformed using the `standard scaler` normalization.\n",
    "\n",
    "After selected the final model we will perform the following process:\n",
    "- Use the train + validation set to train the final model.\n",
    "    - Transform the input data using standard scaler.\n",
    "- Get performance comparing the prediction with a hold-out test dataset never seen by the model before."
   ]
  },
  {
   "cell_type": "code",
   "execution_count": 32,
   "metadata": {},
   "outputs": [
    {
     "name": "stderr",
     "output_type": "stream",
     "text": [
      "C:\\Users\\ly266e\\AppData\\Roaming\\Python\\Python37\\site-packages\\sklearn\\linear_model\\_sag.py:329: ConvergenceWarning: The max_iter was reached which means the coef_ did not converge\n",
      "  \"the coef_ did not converge\", ConvergenceWarning)\n"
     ]
    },
    {
     "data": {
      "image/png": "[encoded data removed]",
      "text/plain": [
       "<Figure size 432x288 with 2 Axes>"
      ]
     },
     "metadata": {
      "needs_background": "light"
     },
     "output_type": "display_data"
    }
   ],
   "source": [
    "#Retrain the model using the selected model: Std normalization + l2 regularization\n",
    "\n",
    "#Input data (training + validation): X_train_original, X_test_final, y_train_original, y_test_final\n",
    "\n",
    "#StdScalar normalization\n",
    "scaler_final = StandardScaler()\n",
    "scaler_final.fit(X_train_original)\n",
    "X_train_final = scaler_final.transform(X_train_original)\n",
    "X_test_final = scaler_final.transform(X_test_final)\n",
    " \n",
    "#Model using l2 regularization (default option)\n",
    "final_model = LogisticRegression(class_weight = 'balanced',\n",
    "                                       solver = 'saga', \n",
    "                                       max_iter = 1000)\n",
    "#Fitting the model\n",
    "final_model.fit(X_train_final, y_train_original)\n",
    "\n",
    "#Making predictions using unseen data\n",
    "y_predicted_final = final_model.predict(X_test_final)\n",
    "\n",
    "#Confusion matrix\n",
    "cm_final = confusion_matrix(y_test_final, y_predicted_final)\n",
    "\n",
    "#Confusion matrix plot\n",
    "confusion_matrix_plot(cm_final)"
   ]
  },
  {
   "cell_type": "markdown",
   "metadata": {},
   "source": [
    "### Comparison between FINAL model (hold-out data/unseen data) and VALIDATION model"
   ]
  },
  {
   "cell_type": "code",
   "execution_count": 33,
   "metadata": {},
   "outputs": [
    {
     "name": "stdout",
     "output_type": "stream",
     "text": [
      "Classification report for Previous - Validation Model\n",
      "              precision    recall  f1-score   support\n",
      "\n",
      "           0      0.982     0.973     0.977       446\n",
      "           1      0.855     0.899     0.877        79\n",
      "\n",
      "    accuracy                          0.962       525\n",
      "   macro avg      0.919     0.936     0.927       525\n",
      "weighted avg      0.963     0.962     0.962       525\n",
      "\n",
      "-------------------------------------------------\n",
      "Classification report for Final Model\n",
      "              precision    recall  f1-score   support\n",
      "\n",
      "           0      0.981     0.970     0.976       542\n",
      "           1      0.867     0.912     0.889       114\n",
      "\n",
      "    accuracy                          0.960       656\n",
      "   macro avg      0.924     0.941     0.932       656\n",
      "weighted avg      0.961     0.960     0.961       656\n",
      "\n"
     ]
    }
   ],
   "source": [
    "print(\"Classification report for Previous - Validation Model\")\n",
    "print(classification_report(y_test, y_predicted_std_l2, digits=3))\n",
    "\n",
    "print('-------------------------------------------------')\n",
    "\n",
    "print(\"Classification report for Final Model\")\n",
    "print(classification_report(y_test_final, y_predicted_final, digits=3))"
   ]
  },
  {
   "cell_type": "markdown",
   "metadata": {},
   "source": [
    "# Final notes:\n",
    "\n",
    "It is possible to see that performance results from the final model on data not seen by the model before it is pretty close to the proxy used on the validation stage (when doing the evaluation of different hyper parameters for the model). This provides insurance that the model `generalize` well when presented with new/unseen data. \n",
    "\n",
    "In this example it was used the `hold-out` method for testing, but it is possible to obtain better results by using `k-folds` method instead."
   ]
  }
 ],
 "metadata": {
  "kernelspec": {
   "display_name": "Python 3",
   "language": "python",
   "name": "python3"
  },
  "language_info": {
   "codemirror_mode": {
    "name": "ipython",
    "version": 3
   },
   "file_extension": ".py",
   "mimetype": "text/x-python",
   "name": "python",
   "nbconvert_exporter": "python",
   "pygments_lexer": "ipython3",
   "version": "3.7.3"
  }
 },
 "nbformat": 4,
 "nbformat_minor": 5
}
